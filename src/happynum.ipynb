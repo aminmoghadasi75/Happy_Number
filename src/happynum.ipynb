{
 "cells": [
  {
   "cell_type": "markdown",
   "metadata": {},
   "source": [
    "# How we have to coding this Project :\n",
    " - 1) get the str of number input and then break down the number into their component\n",
    " - 2) Multiply the int of each component and then calculate the sum of them\n",
    " - 3) Check if sum == 1 --> Happy Number\n",
    " - 4) check is sum !- 1 and repeat the steps until a number appear twice --> Not a Happy Number "
   ]
  },
  {
   "cell_type": "code",
   "execution_count": 56,
   "metadata": {},
   "outputs": [],
   "source": [
    "def happy_num(x : int)->str :\n",
    "    num = x\n",
    "    set_num = set()\n",
    "    while num != 1 and num not in set_num :\n",
    "        set_num.add(num)\n",
    "        n = sum([int(i)**2  for i in str(num)])\n",
    "        num = n\n",
    "    if num == 1 :\n",
    "        print(f\"{x} --> Happy Number :)\")\n",
    "    else :\n",
    "        print(f\"{x} -->  is Not a Happy Number :( \")\n"
   ]
  },
  {
   "cell_type": "code",
   "execution_count": 57,
   "metadata": {},
   "outputs": [
    {
     "name": "stdout",
     "output_type": "stream",
     "text": [
      "7 --> Happy Number :)\n"
     ]
    }
   ],
   "source": [
    "happy_num(7)"
   ]
  },
  {
   "cell_type": "code",
   "execution_count": null,
   "metadata": {},
   "outputs": [],
   "source": []
  },
  {
   "cell_type": "code",
   "execution_count": 1,
   "metadata": {},
   "outputs": [
    {
     "ename": "NameError",
     "evalue": "name 'happy_num' is not defined",
     "output_type": "error",
     "traceback": [
      "\u001b[0;31m---------------------------------------------------------------------------\u001b[0m",
      "\u001b[0;31mNameError\u001b[0m                                 Traceback (most recent call last)",
      "\u001b[1;32m/home/amin/my_projects/Happy_number/src/happynum.ipynb Cell 4\u001b[0m line \u001b[0;36m1\n\u001b[0;32m----> <a href='vscode-notebook-cell://wsl%2Bubuntu-22.04/home/amin/my_projects/Happy_number/src/happynum.ipynb#W3sdnNjb2RlLXJlbW90ZQ%3D%3D?line=0'>1</a>\u001b[0m happy_num(\u001b[39m45\u001b[39m)\n",
      "\u001b[0;31mNameError\u001b[0m: name 'happy_num' is not defined"
     ]
    }
   ],
   "source": [
    "happy_num(45)"
   ]
  }
 ],
 "metadata": {
  "kernelspec": {
   "display_name": "machine_learning",
   "language": "python",
   "name": "python3"
  },
  "language_info": {
   "codemirror_mode": {
    "name": "ipython",
    "version": 3
   },
   "file_extension": ".py",
   "mimetype": "text/x-python",
   "name": "python",
   "nbconvert_exporter": "python",
   "pygments_lexer": "ipython3",
   "version": "3.10.13"
  }
 },
 "nbformat": 4,
 "nbformat_minor": 2
}
